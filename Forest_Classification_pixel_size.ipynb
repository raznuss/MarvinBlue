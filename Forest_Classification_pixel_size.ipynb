{
 "cells": [
  {
   "cell_type": "code",
   "execution_count": 1,
   "id": "1e3a0bca",
   "metadata": {},
   "outputs": [],
   "source": [
    "import os\n",
    "import numpy as np\n",
    "import pandas as pd\n",
    "import matplotlib.pyplot as plt\n",
    "import seaborn as sns\n",
    "import rasterio\n",
    "from sklearn.model_selection import train_test_split\n",
    "from sklearn.ensemble import RandomForestClassifier\n",
    "from sklearn.metrics import classification_report, confusion_matrix, ConfusionMatrixDisplay, accuracy_score, f1_score\n",
    "from sklearn.preprocessing import StandardScaler\n",
    "from sklearn.svm import SVC\n",
    "import joblib"
   ]
  },
  {
   "cell_type": "code",
   "execution_count": 2,
   "id": "e396ab8c",
   "metadata": {},
   "outputs": [],
   "source": [
    "# Function to load TIFF files from a directory\n",
    "def load_tif_files(directory):\n",
    "    return [rasterio.open(os.path.join(directory, f)).read() for f in os.listdir(directory) if f.endswith('.tif')]\n",
    "\n",
    "# Function to extract features from the first two bands (VV, VH)\n",
    "def extract_features(image_data):\n",
    "    return np.vstack([image_data[0].flatten(), image_data[1].flatten()]).T\n",
    "\n",
    "# Uncomment the function to include Band 3 features\n",
    "# def extract_features(image_data):\n",
    "#     band1, band2, band3 = image_data[0], image_data[1], image_data[2]\n",
    "#     \n",
    "#     # Calculate the mean of the incidence angle (band3)\n",
    "#     band3_mean = np.nanmean(band3)\n",
    "#     \n",
    "#     # Flatten the bands\n",
    "#     band1_flat = band1.flatten()\n",
    "#     band2_flat = band2.flatten()\n",
    "#     \n",
    "#     # Calculate the ratio features\n",
    "#     band1_ratio = band1_flat / band3_mean\n",
    "#     band2_ratio = band2_flat / band3_mean\n",
    "#     \n",
    "#     # Stack the features together\n",
    "#     features = np.vstack([band1_flat, band2_flat, band1_ratio, band2_ratio]).T\n",
    "#     \n",
    "#     return features\n",
    "\n",
    "# Function to preprocess the data by extracting features and combining classes\n",
    "def preprocess_data(non_forest_data, forest_data):\n",
    "    non_forest_features = np.vstack([extract_features(bands) for bands in non_forest_data])\n",
    "    forest_features = np.vstack([extract_features(bands) for bands in forest_data])\n",
    "    X = np.vstack([non_forest_features, forest_features])\n",
    "    y = np.hstack([np.zeros(non_forest_features.shape[0]), np.ones(forest_features.shape[0])])\n",
    "    return X, y\n",
    "\n",
    "# Function to downsample data to balance the classes (forest and non-forest)\n",
    "def downsample_data(X, y, target_class_size=20000):\n",
    "    np.random.seed(42)  # Ensure reproducibility\n",
    "    non_forest_features = X[y == 0][~np.isnan(X[y == 0]).any(axis=1)]  # Filter out NaN values\n",
    "    forest_features = X[y == 1][~np.isnan(X[y == 1]).any(axis=1)]\n",
    "    non_forest_sampled = non_forest_features[np.random.choice(non_forest_features.shape[0], target_class_size, replace=False)]\n",
    "    forest_sampled = forest_features[np.random.choice(forest_features.shape[0], target_class_size, replace=False)]\n",
    "    X_downsampled = np.vstack([non_forest_sampled, forest_sampled])\n",
    "    y_downsampled = np.hstack([np.zeros(target_class_size), np.ones(target_class_size)])\n",
    "    return X_downsampled, y_downsampled"
   ]
  },
  {
   "cell_type": "code",
   "execution_count": 3,
   "id": "df5df3a3",
   "metadata": {},
   "outputs": [],
   "source": [
    "# Load non-forest and forest data\n",
    "non_forest_dir = r\"D:\\Development\\RESEARCH\\MarvinBlue\\Data\\non_forest\"\n",
    "forest_dir = r\"D:\\Development\\RESEARCH\\MarvinBlue\\Data\\forest\"\n",
    "non_forest_data = load_tif_files(non_forest_dir)\n",
    "forest_data = load_tif_files(forest_dir)\n",
    "\n",
    "# Extract features and downsample the data\n",
    "X, y = preprocess_data(non_forest_data, forest_data)\n",
    "X_downsampled, y_downsampled = downsample_data(X, y)\n",
    "\n",
    "# Split data into training, validation, and test sets\n",
    "X_train, X_temp, y_train, y_temp = train_test_split(X_downsampled, y_downsampled, test_size=0.3, random_state=42)\n",
    "X_val, X_test, y_val, y_test = train_test_split(X_temp, y_temp, test_size=0.5, random_state=42)\n",
    "\n",
    "# Normalize the data for better performance of the classifiers\n",
    "scaler = StandardScaler()\n",
    "X_train_norm = scaler.fit_transform(X_train)\n",
    "X_val_norm = scaler.transform(X_val)\n",
    "X_test_norm = scaler.transform(X_test)"
   ]
  },
  {
   "cell_type": "code",
   "execution_count": 4,
   "id": "5470f0d3",
   "metadata": {},
   "outputs": [
    {
     "name": "stdout",
     "output_type": "stream",
     "text": [
      "Best RF Parameters: {'bootstrap': True, 'ccp_alpha': 0.0, 'class_weight': None, 'criterion': 'gini', 'max_depth': 10, 'max_features': 'auto', 'max_leaf_nodes': None, 'max_samples': None, 'min_impurity_decrease': 0.0, 'min_samples_leaf': 1, 'min_samples_split': 2, 'min_weight_fraction_leaf': 0.0, 'n_estimators': 200, 'n_jobs': None, 'oob_score': False, 'random_state': 42, 'verbose': 0, 'warm_start': False}, Best F1 Score: 0.7377\n"
     ]
    }
   ],
   "source": [
    "# Perform grid search for Random Forest hyperparameters\n",
    "def rf_grid_search(X_train, y_train, X_val, y_val, param_grid):\n",
    "    best_score, best_params, best_model = 0, {}, None\n",
    "    for n_estimators in param_grid['n_estimators']:\n",
    "        for max_depth in param_grid['max_depth']:\n",
    "            for min_samples_split in param_grid['min_samples_split']:\n",
    "                for min_samples_leaf in param_grid['min_samples_leaf']:\n",
    "                    rf = RandomForestClassifier(n_estimators=n_estimators, max_depth=max_depth,\n",
    "                                                min_samples_split=min_samples_split, min_samples_leaf=min_samples_leaf, random_state=42)\n",
    "                    rf.fit(X_train, y_train)\n",
    "                    score = f1_score(y_val, rf.predict(X_val), average='weighted')\n",
    "                    if score > best_score:\n",
    "                        best_score, best_params, best_model = score, rf.get_params(), rf\n",
    "    return best_params, best_score, best_model\n",
    "\n",
    "param_grid = {\n",
    "    'n_estimators': [50, 100, 200],\n",
    "    'max_depth': [None, 10, 20],\n",
    "    'min_samples_split': [2, 5],\n",
    "    'min_samples_leaf': [1, 2]\n",
    "}\n",
    "\n",
    "# Find the best Random Forest model based on validation performance\n",
    "rf_best_params, rf_best_score, rf_best_model = rf_grid_search(X_train_norm, y_train, X_val_norm, y_val, param_grid)\n",
    "print(f\"Best RF Parameters: {rf_best_params}, Best F1 Score: {rf_best_score:.4f}\")\n",
    "rf_classifier = rf_best_model"
   ]
  },
  {
   "cell_type": "code",
   "execution_count": 5,
   "id": "c2564e59",
   "metadata": {},
   "outputs": [
    {
     "name": "stdout",
     "output_type": "stream",
     "text": [
      "Best SVM Validation F1 Score: 0.7398 with parameters: {'C': 10, 'break_ties': False, 'cache_size': 200, 'class_weight': None, 'coef0': 0.0, 'decision_function_shape': 'ovr', 'degree': 3, 'gamma': 'auto', 'kernel': 'rbf', 'max_iter': -1, 'probability': True, 'random_state': None, 'shrinking': True, 'tol': 0.001, 'verbose': False}\n"
     ]
    }
   ],
   "source": [
    "# Perform grid search for SVM hyperparameters\n",
    "def svm_grid_search(X_train, y_train, X_val, y_val, param_grid):\n",
    "    best_score, best_params, best_model = 0, {}, None\n",
    "    for C in param_grid['C']:\n",
    "        for kernel in param_grid['kernel']:\n",
    "            for gamma in param_grid['gamma']:\n",
    "                svm_classifier = SVC(C=C, kernel=kernel, gamma=gamma, probability=True)\n",
    "                svm_classifier.fit(X_train, y_train)\n",
    "                score = f1_score(y_val, svm_classifier.predict(X_val), average='weighted')\n",
    "                if score > best_score:\n",
    "                    best_score, best_params, best_model = score, svm_classifier.get_params(), svm_classifier\n",
    "    print(f\"Best SVM Validation F1 Score: {best_score:.4f} with parameters: {best_params}\")\n",
    "    return best_model\n",
    "\n",
    "param_grid = {\n",
    "    'C': [0.1, 1, 10],\n",
    "    'kernel': ['linear', 'rbf'],\n",
    "    'gamma': ['scale', 'auto']\n",
    "}\n",
    "\n",
    "# Find the best SVM model based on validation performance\n",
    "svm_best_model = svm_grid_search(X_train_norm, y_train, X_val_norm, y_val, param_grid)\n",
    "svm_classifier = svm_best_model"
   ]
  },
  {
   "cell_type": "code",
   "execution_count": 10,
   "id": "b6eef382",
   "metadata": {},
   "outputs": [
    {
     "data": {
      "text/html": [
       "<div>\n",
       "<style scoped>\n",
       "    .dataframe tbody tr th:only-of-type {\n",
       "        vertical-align: middle;\n",
       "    }\n",
       "\n",
       "    .dataframe tbody tr th {\n",
       "        vertical-align: top;\n",
       "    }\n",
       "\n",
       "    .dataframe thead th {\n",
       "        text-align: right;\n",
       "    }\n",
       "</style>\n",
       "<table border=\"1\" class=\"dataframe\">\n",
       "  <thead>\n",
       "    <tr style=\"text-align: right;\">\n",
       "      <th></th>\n",
       "      <th>Model</th>\n",
       "      <th>Accuracy</th>\n",
       "      <th>Precision (Non-Forest)</th>\n",
       "      <th>Recall (Non-Forest)</th>\n",
       "      <th>F1-Score (Non-Forest)</th>\n",
       "      <th>Precision (Forest)</th>\n",
       "      <th>Recall (Forest)</th>\n",
       "      <th>F1-Score (Forest)</th>\n",
       "    </tr>\n",
       "  </thead>\n",
       "  <tbody>\n",
       "    <tr>\n",
       "      <th>0</th>\n",
       "      <td>Random Forest</td>\n",
       "      <td>0.744667</td>\n",
       "      <td>0.783659</td>\n",
       "      <td>0.678512</td>\n",
       "      <td>0.727305</td>\n",
       "      <td>0.714707</td>\n",
       "      <td>0.811308</td>\n",
       "      <td>0.759950</td>\n",
       "    </tr>\n",
       "    <tr>\n",
       "      <th>1</th>\n",
       "      <td>SVM</td>\n",
       "      <td>0.748000</td>\n",
       "      <td>0.789047</td>\n",
       "      <td>0.679508</td>\n",
       "      <td>0.730193</td>\n",
       "      <td>0.716760</td>\n",
       "      <td>0.816996</td>\n",
       "      <td>0.763602</td>\n",
       "    </tr>\n",
       "  </tbody>\n",
       "</table>\n",
       "</div>"
      ],
      "text/plain": [
       "           Model  Accuracy  Precision (Non-Forest)  Recall (Non-Forest)  \\\n",
       "0  Random Forest  0.744667                0.783659             0.678512   \n",
       "1            SVM  0.748000                0.789047             0.679508   \n",
       "\n",
       "   F1-Score (Non-Forest)  Precision (Forest)  Recall (Forest)  \\\n",
       "0               0.727305            0.714707         0.811308   \n",
       "1               0.730193            0.716760         0.816996   \n",
       "\n",
       "   F1-Score (Forest)  \n",
       "0           0.759950  \n",
       "1           0.763602  "
      ]
     },
     "metadata": {},
     "output_type": "display_data"
    },
    {
     "data": {
      "image/png": "[encoded data removed]",
      "text/plain": [
       "<Figure size 1200x500 with 4 Axes>"
      ]
     },
     "metadata": {},
     "output_type": "display_data"
    }
   ],
   "source": [
    "from sklearn.metrics import classification_report, accuracy_score, ConfusionMatrixDisplay\n",
    "import pandas as pd\n",
    "import matplotlib.pyplot as plt\n",
    "\n",
    "def compare_models(rf_classifier, svm_classifier, X_test, y_test):\n",
    "    rf_test_predictions = rf_classifier.predict(X_test)\n",
    "    svm_test_predictions = svm_classifier.predict(X_test)\n",
    "    \n",
    "    rf_test_accuracy = (rf_test_predictions == y_test).mean()\n",
    "    svm_test_accuracy = (svm_test_predictions == y_test).mean()\n",
    "    \n",
    "    rf_classification_report = classification_report(y_test, rf_test_predictions, target_names=['Non-Forest', 'Forest'], output_dict=True)\n",
    "    svm_classification_report = classification_report(y_test, svm_test_predictions, target_names=['Non-Forest', 'Forest'], output_dict=True)\n",
    "    \n",
    "    metrics_df = pd.DataFrame({\n",
    "        'Model': ['Random Forest', 'SVM'],\n",
    "        'Accuracy': [rf_test_accuracy, svm_test_accuracy],\n",
    "        'Precision (Non-Forest)': [rf_classification_report['Non-Forest']['precision'], svm_classification_report['Non-Forest']['precision']],\n",
    "        'Recall (Non-Forest)': [rf_classification_report['Non-Forest']['recall'], svm_classification_report['Non-Forest']['recall']],\n",
    "        'F1-Score (Non-Forest)': [rf_classification_report['Non-Forest']['f1-score'], svm_classification_report['Non-Forest']['f1-score']],\n",
    "        'Precision (Forest)': [rf_classification_report['Forest']['precision'], svm_classification_report['Forest']['precision']],\n",
    "        'Recall (Forest)': [rf_classification_report['Forest']['recall'], svm_classification_report['Forest']['recall']],\n",
    "        'F1-Score (Forest)': [rf_classification_report['Forest']['f1-score'], svm_classification_report['Forest']['f1-score']]\n",
    "    })\n",
    "    \n",
    "    display(metrics_df)\n",
    "    \n",
    "    fig, axes = plt.subplots(1, 2, figsize=(12, 5))\n",
    "    \n",
    "    ConfusionMatrixDisplay.from_predictions(y_test, rf_test_predictions, display_labels=['Non-Forest', 'Forest'], cmap=plt.cm.Blues, ax=axes[0])\n",
    "    axes[0].set_title(\"Random Forest Confusion Matrix\")\n",
    "    \n",
    "    ConfusionMatrixDisplay.from_predictions(y_test, svm_test_predictions, display_labels=['Non-Forest', 'Forest'], cmap=plt.cm.Blues, ax=axes[1])\n",
    "    axes[1].set_title(\"SVM Confusion Matrix\")\n",
    "    \n",
    "    plt.show()\n",
    "\n",
    "# Compare Models\n",
    "compare_models(rf_classifier, svm_classifier, X_test_norm, y_test)\n"
   ]
  },
  {
   "cell_type": "code",
   "execution_count": 11,
   "id": "b4e87cfa",
   "metadata": {},
   "outputs": [
    {
     "name": "stdout",
     "output_type": "stream",
     "text": [
      "Models and scaler saved successfully.\n"
     ]
    }
   ],
   "source": [
    "# Save the best models and the scaler\n",
    "joblib.dump(rf_classifier, r'D:\\Development\\RESEARCH\\MarvinBlue\\Results\\rf_model.pkl')\n",
    "joblib.dump(svm_classifier, r'D:\\Development\\RESEARCH\\MarvinBlue\\Results\\svm_model.pkl')\n",
    "joblib.dump(scaler, r'D:\\Development\\RESEARCH\\MarvinBlue\\Results\\scaler.pkl')\n",
    "print(\"Models and scaler saved successfully.\")"
   ]
  },
  {
   "cell_type": "code",
   "execution_count": null,
   "id": "bec6793b",
   "metadata": {},
   "outputs": [],
   "source": []
  }
 ],
 "metadata": {
  "kernelspec": {
   "display_name": "Python 3 (ipykernel)",
   "language": "python",
   "name": "python3"
  },
  "language_info": {
   "codemirror_mode": {
    "name": "ipython",
    "version": 3
   },
   "file_extension": ".py",
   "mimetype": "text/x-python",
   "name": "python",
   "nbconvert_exporter": "python",
   "pygments_lexer": "ipython3",
   "version": "3.9.13"
  }
 },
 "nbformat": 4,
 "nbformat_minor": 5
}
