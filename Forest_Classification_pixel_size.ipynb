{
 "cells": [
  {
   "cell_type": "code",
   "execution_count": 1,
   "id": "153ffa13",
   "metadata": {},
   "outputs": [],
   "source": [
    "# Imports\n",
    "import os\n",
    "import pandas as pd\n",
    "import numpy as np\n",
    "import matplotlib.pyplot as plt\n",
    "import seaborn as sns\n",
    "import rasterio\n",
    "from rasterio.plot import show\n",
    "\n",
    "from sklearn.model_selection import train_test_split\n",
    "from sklearn.ensemble import RandomForestClassifier\n",
    "from sklearn.metrics import classification_report, confusion_matrix, ConfusionMatrixDisplay\n",
    "from sklearn.ensemble import RandomForestClassifier\n",
    "from sklearn.metrics import accuracy_score\n",
    "from sklearn.preprocessing import StandardScaler\n",
    "from sklearn.svm import SVC\n",
    "\n",
    "import joblib"
   ]
  },
  {
   "cell_type": "markdown",
   "id": "f7365abe",
   "metadata": {},
   "source": [
    "# Data Loading and Preprocessing"
   ]
  },
  {
   "cell_type": "code",
   "execution_count": 2,
   "id": "08ff2c73",
   "metadata": {},
   "outputs": [],
   "source": [
    "# Data Loading and Preprocessing\n",
    "def load_tif_files(directory):\n",
    "    \"\"\"Load and return a list of arrays representing TIFF files from a directory.\"\"\"\n",
    "    tif_files = [os.path.join(directory, f) for f in os.listdir(directory) if f.endswith('.tif')]\n",
    "    bands_list = [rasterio.open(fp).read() for fp in tif_files]\n",
    "    return bands_list\n",
    "\n",
    "def count_non_nan_pixels(band1, band2):\n",
    "    \"\"\"Count the number of non-NaN pixels based on two bands.\"\"\"\n",
    "    return np.sum(~np.isnan(band1) & ~np.isnan(band2))\n",
    "\n",
    "def preprocess_data(non_forest_data, forest_data):\n",
    "    \"\"\"Preprocess data to extract features and labels.\"\"\"\n",
    "    non_forest_features = np.vstack([extract_features(bands) for bands in non_forest_data])\n",
    "    forest_features = np.vstack([extract_features(bands) for bands in forest_data])\n",
    "    \n",
    "    X = np.vstack([non_forest_features, forest_features])\n",
    "    y = np.hstack([np.zeros(non_forest_features.shape[0]), np.ones(forest_features.shape[0])])\n",
    "    \n",
    "    return X, y\n",
    "\n",
    "def downsample_data(features, labels, target_class_size=20000):\n",
    "    \"\"\"Downsample both classes to the target_class_size, ensuring no NaN values.\"\"\"\n",
    "    non_forest_features = features[labels == 0]\n",
    "    forest_features = features[labels == 1]\n",
    "    \n",
    "    non_forest_features = non_forest_features[~np.isnan(non_forest_features).any(axis=1)]\n",
    "    forest_features = forest_features[~np.isnan(forest_features).any(axis=1)]\n",
    "    \n",
    "    np.random.seed(42)\n",
    "    downsampled_non_forest = non_forest_features[np.random.choice(non_forest_features.shape[0], target_class_size, replace=False)]\n",
    "    downsampled_forest = forest_features[np.random.choice(forest_features.shape[0], target_class_size, replace=False)]\n",
    "    \n",
    "    X_downsampled = np.vstack([downsampled_non_forest, downsampled_forest])\n",
    "    y_downsampled = np.hstack([np.zeros(downsampled_non_forest.shape[0]), np.ones(downsampled_forest.shape[0])])\n",
    "    \n",
    "    return X_downsampled, y_downsampled"
   ]
  },
  {
   "cell_type": "markdown",
   "id": "f9d26d46",
   "metadata": {},
   "source": [
    "### Features selection"
   ]
  },
  {
   "cell_type": "code",
   "execution_count": 3,
   "id": "66584312",
   "metadata": {},
   "outputs": [],
   "source": [
    "# def extract_features(image_data):\n",
    "#     \"\"\"Extract features from the first two bands (VV, VH) and the incidence angle.\"\"\"\n",
    "#     band1, band2, band3 = image_data\n",
    "#     return np.vstack([band1.flatten(), band2.flatten(), band3.flatten()]).T\n",
    "\n",
    "def extract_features(image_data):\n",
    "    \"\"\"Extract features from the first two bands (VV, VH) only.\"\"\"\n",
    "    band1, band2 = image_data[0], image_data[1]\n",
    "    return np.vstack([band1.flatten(), band2.flatten()]).T\n",
    "\n",
    "# def extract_features(image_data):\n",
    "#     \"\"\"Extract features from the first two bands (VV, VH) and their ratios to the mean of the incidence angle.\"\"\"\n",
    "#     band1, band2, band3 = image_data\n",
    "    \n",
    "#     # Calculate the mean of the incidence angle (band3)\n",
    "#     band3_mean = np.nanmean(band3)\n",
    "    \n",
    "#     # Flatten the bands\n",
    "#     band1_flat = band1.flatten()\n",
    "#     band2_flat = band2.flatten()\n",
    "    \n",
    "#     # Calculate the ratio features\n",
    "#     band1_ratio = band1_flat / band3_mean\n",
    "#     band2_ratio = band2_flat / band3_mean\n",
    "    \n",
    "#     # Stack the features together\n",
    "#     features = np.vstack([band1_flat, band2_flat, band1_ratio, band2_ratio]).T\n",
    "    \n",
    "#     return features"
   ]
  },
  {
   "cell_type": "markdown",
   "id": "dab3a4d8",
   "metadata": {},
   "source": [
    "#### Load Data"
   ]
  },
  {
   "cell_type": "code",
   "execution_count": 4,
   "id": "87cb36ae",
   "metadata": {},
   "outputs": [
    {
     "name": "stdout",
     "output_type": "stream",
     "text": [
      "Loaded 31 non-forest files and 45 forest files.\n",
      "Non-Forest Non-NaN Pixels: 979214 (4.68%)\n",
      "Forest Non-NaN Pixels: 19928127 (95.32%)\n",
      "Training set size: 28000 samples\n",
      "Validation set size: 6000 samples\n",
      "Test set size: 6000 samples\n"
     ]
    }
   ],
   "source": [
    "target_class_size = 20000\n",
    "\n",
    "non_forest_dir = r\"D:\\Development\\RESEARCH\\MarvinBlue\\Data\\non_forest\"\n",
    "forest_dir = r\"D:\\Development\\RESEARCH\\MarvinBlue\\Data\\forest\"\n",
    "\n",
    "non_forest_data = load_tif_files(non_forest_dir)\n",
    "forest_data = load_tif_files(forest_dir)\n",
    "print(f\"Loaded {len(non_forest_data)} non-forest files and {len(forest_data)} forest files.\")\n",
    "\n",
    "# Count and Print Non-NaN Pixels\n",
    "non_forest_pixel_count = sum(count_non_nan_pixels(bands[0], bands[1]) for bands in non_forest_data)\n",
    "forest_pixel_count = sum(count_non_nan_pixels(bands[0], bands[1]) for bands in forest_data)\n",
    "total_pixels = non_forest_pixel_count + forest_pixel_count\n",
    "\n",
    "print(f\"Non-Forest Non-NaN Pixels: {non_forest_pixel_count} ({(non_forest_pixel_count / total_pixels) * 100:.2f}%)\")\n",
    "print(f\"Forest Non-NaN Pixels: {forest_pixel_count} ({(forest_pixel_count / total_pixels) * 100:.2f}%)\")\n",
    "\n",
    "# Feature Extraction and Downsampling\n",
    "X, y = preprocess_data(non_forest_data, forest_data)\n",
    "X_downsampled, y_downsampled = downsample_data(X, y, target_class_size=target_class_size)\n",
    "\n",
    "# Split Data\n",
    "X_train, X_temp, y_train, y_temp = train_test_split(X_downsampled, y_downsampled, test_size=0.3, random_state=42)\n",
    "X_val, X_test, y_val, y_test = train_test_split(X_temp, y_temp, test_size=0.5, random_state=42)\n",
    "\n",
    "print(f\"Training set size: {X_train.shape[0]} samples\")\n",
    "print(f\"Validation set size: {X_val.shape[0]} samples\")\n",
    "print(f\"Test set size: {X_test.shape[0]} samples\")\n",
    "\n",
    "# Normalize Data\n",
    "scaler = StandardScaler()\n",
    "X_train_norm = scaler.fit_transform(X_train)\n",
    "X_val_norm = scaler.transform(X_val)\n",
    "X_test_norm = scaler.transform(X_test)"
   ]
  },
  {
   "cell_type": "markdown",
   "id": "2ef83b94",
   "metadata": {},
   "source": [
    "# Random Forest Classifier"
   ]
  },
  {
   "cell_type": "code",
   "execution_count": 5,
   "id": "25a2c0ee",
   "metadata": {},
   "outputs": [],
   "source": [
    "def train_evaluate_rf(X_train, y_train, X_val, y_val):\n",
    "    rf_classifier = RandomForestClassifier(n_estimators=100, random_state=42)\n",
    "    rf_classifier.fit(X_train, y_train)\n",
    "    \n",
    "    rf_val_predictions = rf_classifier.predict(X_val)\n",
    "    rf_val_accuracy = (rf_val_predictions == y_val).mean()\n",
    "    print(f\"Random Forest Validation Accuracy: {rf_val_accuracy:.4f}\")\n",
    "    \n",
    "    print(\"Random Forest Classification Report (Validation Set):\")\n",
    "    print(classification_report(y_val, rf_val_predictions, target_names=['Non-Forest', 'Forest']))\n",
    "    \n",
    "    # Plot Confusion Matrix\n",
    "    ConfusionMatrixDisplay.from_predictions(y_val, rf_val_predictions, display_labels=['Non-Forest', 'Forest'], cmap=plt.cm.Blues)\n",
    "    plt.title(\"Random Forest Validation Confusion Matrix\")\n",
    "    plt.show()\n",
    "    \n",
    "    # Plot Feature Importance\n",
    "    feature_importances = rf_classifier.feature_importances_\n",
    "    feature_names = ['Band 1 (VV)', 'Band 2 (VH)', 'Band 1/Incidence Angle - Mean', 'Band 2/Incidence Angle - Mean']  # Update if using only two bands\n",
    "    indices = np.argsort(feature_importances)[::-1]\n",
    "    \n",
    "    plt.figure(figsize=(8, 6))\n",
    "    plt.title(\"Feature Importance - Random Forest\")\n",
    "    plt.bar(range(len(feature_importances)), feature_importances[indices], align=\"center\")\n",
    "    plt.xticks(range(len(feature_importances)), np.array(feature_names)[indices], rotation=45, ha=\"right\")\n",
    "    plt.tight_layout()\n",
    "    plt.show()\n",
    "\n",
    "    return rf_classifier\n"
   ]
  },
  {
   "cell_type": "code",
   "execution_count": 6,
   "id": "cc1fc9d6",
   "metadata": {},
   "outputs": [
    {
     "name": "stdout",
     "output_type": "stream",
     "text": [
      "Random Forest Validation Accuracy: 0.7047\n",
      "Random Forest Classification Report (Validation Set):\n",
      "              precision    recall  f1-score   support\n",
      "\n",
      "  Non-Forest       0.71      0.69      0.70      2986\n",
      "      Forest       0.70      0.72      0.71      3014\n",
      "\n",
      "    accuracy                           0.70      6000\n",
      "   macro avg       0.70      0.70      0.70      6000\n",
      "weighted avg       0.70      0.70      0.70      6000\n",
      "\n"
     ]
    },
    {
     "data": {
      "image/png": "[encoded data removed]",
      "text/plain": [
       "<Figure size 640x480 with 2 Axes>"
      ]
     },
     "metadata": {},
     "output_type": "display_data"
    },
    {
     "data": {
      "image/png": "[encoded data removed]",
      "text/plain": [
       "<Figure size 800x600 with 1 Axes>"
      ]
     },
     "metadata": {},
     "output_type": "display_data"
    }
   ],
   "source": [
    "rf_classifier = train_evaluate_rf(X_train_norm, y_train, X_val_norm, y_val)"
   ]
  },
  {
   "cell_type": "markdown",
   "id": "f5ba56b0",
   "metadata": {},
   "source": [
    "#### Grid search"
   ]
  },
  {
   "cell_type": "code",
   "execution_count": null,
   "id": "0c0b5c94",
   "metadata": {},
   "outputs": [],
   "source": [
    "from sklearn.ensemble import RandomForestClassifier\n",
    "from sklearn.metrics import f1_score\n",
    "import numpy as np\n",
    "\n",
    "def rf_grid_search(X_train, y_train, X_val, y_val, param_grid):\n",
    "    \"\"\"\n",
    "    Perform a grid search for RandomForestClassifier without cross-validation using F1 score.\n",
    "\n",
    "    Parameters:\n",
    "    - X_train: Training feature set.\n",
    "    - y_train: Training labels.\n",
    "    - X_val: Validation feature set.\n",
    "    - y_val: Validation labels.\n",
    "    - param_grid: Dictionary of hyperparameters to search over.\n",
    "\n",
    "    Returns:\n",
    "    - best_params: Dictionary of the best hyperparameters.\n",
    "    - best_score: Best F1 validation score.\n",
    "    - best_model: The best trained Random Forest model.\n",
    "    - feature_importances: Array of feature importances from the best model.\n",
    "    \"\"\"\n",
    "\n",
    "    best_score = 0\n",
    "    best_params = {}\n",
    "    best_model = None\n",
    "    feature_importances = None\n",
    "\n",
    "    for n_estimators in param_grid.get('n_estimators', [100]):\n",
    "        for max_depth in param_grid.get('max_depth', [None]):\n",
    "            for min_samples_split in param_grid.get('min_samples_split', [2]):\n",
    "                for min_samples_leaf in param_grid.get('min_samples_leaf', [1]):\n",
    "                    # Define the model with the current parameters\n",
    "                    rf = RandomForestClassifier(\n",
    "                        n_estimators=n_estimators,\n",
    "                        max_depth=max_depth,\n",
    "                        min_samples_split=min_samples_split,\n",
    "                        min_samples_leaf=min_samples_leaf,\n",
    "                        random_state=42\n",
    "                    )\n",
    "                    \n",
    "                    # Train the model\n",
    "                    rf.fit(X_train, y_train)\n",
    "                    \n",
    "                    # Validate the model\n",
    "                    y_pred = rf.predict(X_val)\n",
    "                    score = f1_score(y_val, y_pred, average='weighted')  # Calculate weighted F1 score\n",
    "                    \n",
    "                    # Check if this is the best score we've seen so far\n",
    "                    if score > best_score:\n",
    "                        best_score = score\n",
    "                        best_params = {\n",
    "                            'n_estimators': n_estimators,\n",
    "                            'max_depth': max_depth,\n",
    "                            'min_samples_split': min_samples_split,\n",
    "                            'min_samples_leaf': min_samples_leaf\n",
    "                        }\n",
    "                        best_model = rf\n",
    "                        feature_importances = rf.feature_importances_\n",
    "\n",
    "    return best_params, best_score, best_model, feature_importances\n",
    "\n",
    "# Example usage\n",
    "X_train = X_train_norm \n",
    "y_train = y_train  \n",
    "X_val = X_val_norm    \n",
    "y_val = y_val    \n",
    "\n",
    "param_grid = {\n",
    "    'n_estimators': [50, 100, 200],\n",
    "    'max_depth': [None, 10, 20],\n",
    "    'min_samples_split': [2, 5],\n",
    "    'min_samples_leaf': [1, 2]\n",
    "}\n",
    "\n",
    "rf_best_params, rf_best_score, rf_best_model, rf_feature_importances = rf_grid_search(X_train, y_train, X_val, y_val, param_grid)\n",
    "\n",
    "print(f\"Best Parameters: {best_params}\")\n",
    "print(f\"Best Validation F1 Score: {best_score}\")\n",
    "\n",
    "# Display feature importances\n",
    "if feature_importances is not None:\n",
    "    print(\"Feature Importances:\")\n",
    "    for i, importance in enumerate(feature_importances):\n",
    "        print(f\"Feature {i}: {importance:.4f}\")\n"
   ]
  },
  {
   "cell_type": "code",
   "execution_count": null,
   "id": "211be111",
   "metadata": {},
   "outputs": [],
   "source": [
    "rf_classifier = rf_best_model"
   ]
  },
  {
   "cell_type": "markdown",
   "id": "4bb3fc36",
   "metadata": {},
   "source": [
    "# SVM Classifier"
   ]
  },
  {
   "cell_type": "code",
   "execution_count": null,
   "id": "fc7d87e1",
   "metadata": {},
   "outputs": [],
   "source": [
    "def train_evaluate_svm(X_train, y_train, X_val, y_val):\n",
    "    svm_classifier = SVC(C=1, kernel='rbf', probability=True)\n",
    "    svm_classifier.fit(X_train, y_train)\n",
    "    \n",
    "    svm_val_predictions = svm_classifier.predict(X_val)\n",
    "    svm_val_accuracy = (svm_val_predictions == y_val).mean()\n",
    "    print(f\"SVM Validation Accuracy: {svm_val_accuracy:.4f}\")\n",
    "    \n",
    "    print(\"SVM Classification Report (Validation Set):\")\n",
    "    print(classification_report(y_val, svm_val_predictions, target_names=['Non-Forest', 'Forest']))\n",
    "    \n",
    "    ConfusionMatrixDisplay.from_predictions(y_val, svm_val_predictions, display_labels=['Non-Forest', 'Forest'], cmap=plt.cm.Blues)\n",
    "    plt.title(\"SVM Validation Confusion Matrix\")\n",
    "    plt.show()\n",
    "\n",
    "    return svm_classifier"
   ]
  },
  {
   "cell_type": "code",
   "execution_count": null,
   "id": "3d3e9505",
   "metadata": {},
   "outputs": [],
   "source": [
    "svm_classifier = train_evaluate_svm(X_train_norm, y_train, X_val_norm, y_val)"
   ]
  },
  {
   "cell_type": "markdown",
   "id": "dc211b50",
   "metadata": {},
   "source": [
    "#### Grid search"
   ]
  },
  {
   "cell_type": "code",
   "execution_count": null,
   "id": "570b2a9b",
   "metadata": {},
   "outputs": [],
   "source": [
    "from sklearn.metrics import f1_score, classification_report, ConfusionMatrixDisplay\n",
    "\n",
    "def svm_grid_search(X_train, y_train, X_val, y_val, param_grid):\n",
    "    \"\"\"\n",
    "    Perform a grid search for SVC without cross-validation using F1 score.\n",
    "\n",
    "    Parameters:\n",
    "    - X_train: Training feature set.\n",
    "    - y_train: Training labels.\n",
    "    - X_val: Validation feature set.\n",
    "    - y_val: Validation labels.\n",
    "    - param_grid: Dictionary of hyperparameters to search over.\n",
    "\n",
    "    Returns:\n",
    "    - best_params: Dictionary of the best hyperparameters.\n",
    "    - best_score: Best F1 validation score.\n",
    "    - best_model: The best trained SVM model.\n",
    "    \"\"\"\n",
    "\n",
    "    best_score = 0\n",
    "    best_params = {}\n",
    "    best_model = None\n",
    "\n",
    "    for C in param_grid.get('C', [1]):\n",
    "        for kernel in param_grid.get('kernel', ['rbf']):\n",
    "            for gamma in param_grid.get('gamma', ['scale']):\n",
    "                # Define the model with the current parameters\n",
    "                svm_classifier = SVC(C=C, kernel=kernel, gamma=gamma, probability=True)\n",
    "                svm_classifier.fit(X_train, y_train)\n",
    "                \n",
    "                # Validate the model\n",
    "                svm_val_predictions = svm_classifier.predict(X_val)\n",
    "                svm_val_f1 = f1_score(y_val, svm_val_predictions, average='weighted')  # Calculate weighted F1 score\n",
    "                \n",
    "                # Check if this is the best score we've seen so far\n",
    "                if svm_val_f1 > best_score:\n",
    "                    best_score = svm_val_f1\n",
    "                    best_params = {\n",
    "                        'C': C,\n",
    "                        'kernel': kernel,\n",
    "                        'gamma': gamma\n",
    "                    }\n",
    "                    best_model = svm_classifier\n",
    "\n",
    "    # Evaluate the best model on the validation set\n",
    "    print(f\"Best SVM Validation F1 Score: {best_score:.4f} with parameters: {best_params}\")\n",
    "    print(\"SVM Classification Report (Validation Set):\")\n",
    "    best_val_predictions = best_model.predict(X_val)\n",
    "    print(classification_report(y_val, best_val_predictions, target_names=['Non-Forest', 'Forest']))\n",
    "    \n",
    "    ConfusionMatrixDisplay.from_predictions(y_val, best_val_predictions, display_labels=['Non-Forest', 'Forest'], cmap=plt.cm.Blues)\n",
    "    plt.title(\"Best SVM Validation Confusion Matrix\")\n",
    "    plt.show()\n",
    "\n",
    "    return best_model, best_params, best_score\n",
    "\n",
    "# Example usage\n",
    "X_train = X_train_norm \n",
    "y_train = y_train  \n",
    "X_val = X_val_norm    \n",
    "y_val = y_val    \n",
    "\n",
    "param_grid = {\n",
    "    'C': [0.1, 1, 10],\n",
    "    'kernel': ['linear', 'rbf'],\n",
    "    'gamma': ['scale', 'auto']\n",
    "}\n",
    "\n",
    "svm_best_model, svm_best_params, svm_best_score = svm_grid_search(X_train, y_train, X_val, y_val, param_grid)\n",
    "\n",
    "print(f\"Best Parameters: {best_params}\")\n",
    "print(f\"Best Validation F1 Score: {best_score}\")\n"
   ]
  },
  {
   "cell_type": "code",
   "execution_count": null,
   "id": "e49718b3",
   "metadata": {},
   "outputs": [],
   "source": [
    "svm_classifier = svm_best_model"
   ]
  },
  {
   "cell_type": "markdown",
   "id": "27b85912",
   "metadata": {},
   "source": [
    "# Model Comparison - Test Data"
   ]
  },
  {
   "cell_type": "code",
   "execution_count": null,
   "id": "6d61d7ec",
   "metadata": {},
   "outputs": [],
   "source": [
    "def compare_models(rf_classifier, svm_classifier, X_test, y_test):\n",
    "    rf_test_predictions = rf_classifier.predict(X_test)\n",
    "    svm_test_predictions = svm_classifier.predict(X_test)\n",
    "    \n",
    "    rf_test_accuracy = (rf_test_predictions == y_test).mean()\n",
    "    svm_test_accuracy = (svm_test_predictions == y_test).mean()\n",
    "    \n",
    "    rf_classification_report = classification_report(y_test, rf_test_predictions, target_names=['Non-Forest', 'Forest'], output_dict=True)\n",
    "    svm_classification_report = classification_report(y_test, svm_test_predictions, target_names=['Non-Forest', 'Forest'], output_dict=True)\n",
    "    \n",
    "    metrics_df = pd.DataFrame({\n",
    "        'Model': ['Random Forest', 'SVM'],\n",
    "        'Accuracy': [rf_test_accuracy, svm_test_accuracy],\n",
    "        'Precision (Non-Forest)': [rf_classification_report['Non-Forest']['precision'], svm_classification_report['Non-Forest']['precision']],\n",
    "        'Recall (Non-Forest)': [rf_classification_report['Non-Forest']['recall'], svm_classification_report['Non-Forest']['recall']],\n",
    "        'F1-Score (Non-Forest)': [rf_classification_report['Non-Forest']['f1-score'], svm_classification_report['Non-Forest']['f1-score']],\n",
    "        'Precision (Forest)': [rf_classification_report['Forest']['precision'], svm_classification_report['Forest']['precision']],\n",
    "        'Recall (Forest)': [rf_classification_report['Forest']['recall'], svm_classification_report['Forest']['recall']],\n",
    "        'F1-Score (Forest)': [rf_classification_report['Forest']['f1-score'], svm_classification_report['Forest']['f1-score']]\n",
    "    })\n",
    "    \n",
    "    print(metrics_df)\n",
    "    \n",
    "    fig, axes = plt.subplots(1, 2, figsize=(12, 5))\n",
    "    ConfusionMatrixDisplay.from_predictions(y_test, rf_test_predictions, display_labels=['Non-Forest', 'Forest'], cmap=plt.cm.Blues, ax=axes[0])\n",
    "    axes[0].set_title(\"Random Forest Confusion Matrix\")\n",
    "    \n",
    "    ConfusionMatrixDisplay.from_predictions(y_test, svm_test_predictions, display_labels=['Non-Forest', 'Forest'], cmap=plt.cm.Blues, ax=axes[1])\n",
    "    axes[1].set_title(\"SVM Confusion Matrix\")\n",
    "    \n",
    "    plt.show()\n",
    "\n",
    "# Compare Models\n",
    "compare_models(rf_classifier, svm_classifier, X_test_norm, y_test)"
   ]
  },
  {
   "cell_type": "code",
   "execution_count": null,
   "id": "99da5193",
   "metadata": {},
   "outputs": [],
   "source": [
    "# Save the SVM Model and Scaler\n",
    "joblib.dump(rf_classifier, r'D:\\Development\\RESEARCH\\MarvinBlue\\Results\\rf_model.pkl')\n",
    "joblib.dump(svm_classifier, r'D:\\Development\\RESEARCH\\MarvinBlue\\Results\\svm_model.pkl')\n",
    "joblib.dump(scaler, r'D:\\Development\\RESEARCH\\MarvinBlue\\Results\\scaler.pkl')\n",
    "print(\"models and scaler saved successfully.\")"
   ]
  },
  {
   "cell_type": "code",
   "execution_count": null,
   "id": "af65b428",
   "metadata": {},
   "outputs": [],
   "source": []
  }
 ],
 "metadata": {
  "kernelspec": {
   "display_name": "Python 3 (ipykernel)",
   "language": "python",
   "name": "python3"
  },
  "language_info": {
   "codemirror_mode": {
    "name": "ipython",
    "version": 3
   },
   "file_extension": ".py",
   "mimetype": "text/x-python",
   "name": "python",
   "nbconvert_exporter": "python",
   "pygments_lexer": "ipython3",
   "version": "3.9.13"
  }
 },
 "nbformat": 4,
 "nbformat_minor": 5
}
